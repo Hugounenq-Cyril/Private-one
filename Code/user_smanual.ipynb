{
 "cells": [
  {
   "cell_type": "code",
   "execution_count": 1,
   "metadata": {
    "collapsed": true
   },
   "outputs": [],
   "source": [
    "load('/home/cyril/Documents/github3/Code/isogeny-computing.sage')"
   ]
  },
  {
   "cell_type": "code",
   "execution_count": 2,
   "metadata": {
    "collapsed": true
   },
   "outputs": [],
   "source": [
    "load('/home/cyril/Documents/github3/Code/tate-modulus-extension.sage')"
   ]
  },
  {
   "cell_type": "code",
   "execution_count": 3,
   "metadata": {
    "collapsed": true
   },
   "outputs": [],
   "source": [
    "load('/home/cyril/Documents/github3/Code/extension_corps.sage')"
   ]
  },
  {
   "cell_type": "code",
   "execution_count": 4,
   "metadata": {
    "collapsed": true
   },
   "outputs": [],
   "source": [
    "F=FiniteField(101)"
   ]
  },
  {
   "cell_type": "code",
   "execution_count": 5,
   "metadata": {
    "collapsed": true
   },
   "outputs": [],
   "source": [
    "K=Tower_two(F,3)"
   ]
  },
  {
   "cell_type": "code",
   "execution_count": 6,
   "metadata": {
    "collapsed": false
   },
   "outputs": [
    {
     "data": {
      "text/plain": [
       "Univariate Quotient Polynomial Ring in x1 over Finite Field of size 101 with modulus x1^8 + 99"
      ]
     },
     "execution_count": 6,
     "metadata": {},
     "output_type": "execute_result"
    }
   ],
   "source": [
    "K._top"
   ]
  },
  {
   "cell_type": "code",
   "execution_count": 7,
   "metadata": {
    "collapsed": true
   },
   "outputs": [],
   "source": [
    "E=EllipticCurve(j=F(28))"
   ]
  },
  {
   "cell_type": "code",
   "execution_count": 8,
   "metadata": {
    "collapsed": false
   },
   "outputs": [
    {
     "data": {
      "text/plain": [
       "2^2 * 3^3"
      ]
     },
     "execution_count": 8,
     "metadata": {},
     "output_type": "execute_result"
    }
   ],
   "source": [
    "E.cardinality().factor()"
   ]
  },
  {
   "cell_type": "code",
   "execution_count": 9,
   "metadata": {
    "collapsed": true
   },
   "outputs": [],
   "source": [
    "E=E.quadratic_twist()"
   ]
  },
  {
   "cell_type": "code",
   "execution_count": 10,
   "metadata": {
    "collapsed": true
   },
   "outputs": [],
   "source": [
    "G3=E(0).division_points(3)"
   ]
  },
  {
   "cell_type": "code",
   "execution_count": 11,
   "metadata": {
    "collapsed": true
   },
   "outputs": [],
   "source": [
    "E3=E.isogeny(G3[1]).codomain()"
   ]
  },
  {
   "cell_type": "code",
   "execution_count": 12,
   "metadata": {
    "collapsed": false
   },
   "outputs": [
    {
     "name": "stdout",
     "output_type": "stream",
     "text": [
      "Elliptic Curve defined by y^2 = x^3 + 47*x + 98 over Finite Field of size 101 Elliptic Curve defined by y^2 = x^3 + 86*x + 82 over Finite Field of size 101\n"
     ]
    }
   ],
   "source": [
    "print E,E3"
   ]
  },
  {
   "cell_type": "code",
   "execution_count": 13,
   "metadata": {
    "collapsed": false
   },
   "outputs": [
    {
     "name": "stdout",
     "output_type": "stream",
     "text": [
      "k1,P,k2,Q 3 (55 : 61 : 1) 2 (38 : 14 : 1)\n",
      "(55 : 61 : 1) (38 : 14 : 1)\n",
      "Dernier cas Q,rs,Lambda_2 3 1 80*x1 + 66\n",
      "k1,P,k2,Q 3 (0 : 48 : 1) 2 (97 : 49 : 1)\n",
      "(0 : 48 : 1) (97 : 49 : 1)\n",
      "Dernier cas Q,rs,Lambda_2 3 1 37*x1 + 56\n",
      "k2 3\n",
      "len(C),o1,o2,k2,Lambda_1,Lambda_2 8 0 1 3 1 5\n",
      "len(L),order,o1,o2,Lambda_1,Lambda_2,power 2 3 0 1 1 5 101\n",
      "L[o2-o1] [[22, 72, 1, 0], [55, 23, 1, 2], [3, 0, 1, 4], [8, 47, 1, 6], [45, 78, 3, 0], [4, 5, 3, 2], [61, 88, 3, 4], [35, 50, 3, 6]]\n",
      "i,j 3 1\n",
      "i,j 5 1\n",
      "i,j 7 1\n",
      "i,j 1 3\n",
      "P3[0],P3[0][0] 85 85\n",
      "i,j 3 3\n",
      "L[0],L[0].parent() 59 Finite Field of size 101\n",
      "phi2 Isogeny of degree 3 from Elliptic Curve defined by y^2 = x^3 + 47*x + 98 over Finite Field of size 101 to Elliptic Curve defined by y^2 = x^3 + 86*x + 82 over Finite Field of size 101\n"
     ]
    },
    {
     "data": {
      "text/plain": [
       "Isogeny of degree 3 from Elliptic Curve defined by y^2 = x^3 + 47*x + 98 over Finite Field of size 101 to Elliptic Curve defined by y^2 = x^3 + 86*x + 82 over Finite Field of size 101"
      ]
     },
     "execution_count": 13,
     "metadata": {},
     "output_type": "execute_result"
    }
   ],
   "source": [
    "Couveignes_algorithme(E,E3,3,K)"
   ]
  },
  {
   "cell_type": "code",
   "execution_count": null,
   "metadata": {
    "collapsed": true
   },
   "outputs": [],
   "source": []
  }
 ],
 "metadata": {
  "kernelspec": {
   "display_name": "SageMath 7.0",
   "language": "",
   "name": "sagemath"
  },
  "language_info": {
   "codemirror_mode": {
    "name": "ipython",
    "version": 2
   },
   "file_extension": ".py",
   "mimetype": "text/x-python",
   "name": "python",
   "nbconvert_exporter": "python",
   "pygments_lexer": "ipython2",
   "version": "2.7.10"
  }
 },
 "nbformat": 4,
 "nbformat_minor": 0
}
